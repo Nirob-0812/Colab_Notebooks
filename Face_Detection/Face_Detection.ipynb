{
  "nbformat": 4,
  "nbformat_minor": 0,
  "metadata": {
    "colab": {
      "provenance": [],
      "gpuType": "T4",
      "mount_file_id": "1jGtBXZHVMTGc2bTlFsf6mWok5QGc8RnD",
      "authorship_tag": "ABX9TyOzXMNAbql2h0CTWJDnBBcA",
      "include_colab_link": true
    },
    "kernelspec": {
      "name": "python3",
      "display_name": "Python 3"
    },
    "language_info": {
      "name": "python"
    },
    "accelerator": "GPU"
  },
  "cells": [
    {
      "cell_type": "markdown",
      "metadata": {
        "id": "view-in-github",
        "colab_type": "text"
      },
      "source": [
        "<a href=\"https://colab.research.google.com/github/Nirob-0812/Colab_Notebooks/blob/main/Face_Detection/Face_Detection.ipynb\" target=\"_parent\"><img src=\"https://colab.research.google.com/assets/colab-badge.svg\" alt=\"Open In Colab\"/></a>"
      ]
    },
    {
      "cell_type": "code",
      "execution_count": null,
      "metadata": {
        "id": "7tLe8xyfLas9"
      },
      "outputs": [],
      "source": [
        "import cv2"
      ]
    },
    {
      "cell_type": "code",
      "source": [
        "face_cascade=cv2.CascadeClassifier(\"/content/drive/MyDrive/Colab Notebooks/Project/Face Detection/haarcascade_frontalface_alt.xml\")"
      ],
      "metadata": {
        "id": "tQPvBQ9JLgJM"
      },
      "execution_count": null,
      "outputs": []
    },
    {
      "cell_type": "code",
      "source": [
        "img=cv2.imread(\"/content/drive/MyDrive/Colab Notebooks/Project/Face Detection/20220826_164734.jpg\")"
      ],
      "metadata": {
        "id": "fY_SYHg6qKG4"
      },
      "execution_count": null,
      "outputs": []
    },
    {
      "cell_type": "code",
      "source": [
        "faces=face_cascade.detectMultiScale(img,1.1,4)"
      ],
      "metadata": {
        "id": "GUq5_CzKqsZG"
      },
      "execution_count": null,
      "outputs": []
    },
    {
      "cell_type": "code",
      "source": [
        "for (x,y,w,h) in faces:\n",
        "  cv2.rectangle(img,(x,y),(x+w,y+h),(255,0,0),2)"
      ],
      "metadata": {
        "id": "VoZPZ-jMrMsV"
      },
      "execution_count": null,
      "outputs": []
    },
    {
      "cell_type": "code",
      "source": [
        "cv2.imwrite(\"im.jpg\",img)\n"
      ],
      "metadata": {
        "colab": {
          "base_uri": "https://localhost:8080/"
        },
        "id": "sSyA2EyGs8Bt",
        "outputId": "45c22960-a675-40e2-9553-a50c449efbe2"
      },
      "execution_count": null,
      "outputs": [
        {
          "output_type": "execute_result",
          "data": {
            "text/plain": [
              "True"
            ]
          },
          "metadata": {},
          "execution_count": 14
        }
      ]
    },
    {
      "cell_type": "code",
      "source": [],
      "metadata": {
        "id": "7l52hiZCtPdh"
      },
      "execution_count": null,
      "outputs": []
    }
  ]
}