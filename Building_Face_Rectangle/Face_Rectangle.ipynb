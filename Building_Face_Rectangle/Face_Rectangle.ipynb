{
  "nbformat": 4,
  "nbformat_minor": 0,
  "metadata": {
    "colab": {
      "provenance": [],
      "gpuType": "T4",
      "mount_file_id": "1jGtBXZHVMTGc2bTlFsf6mWok5QGc8RnD",
      "authorship_tag": "ABX9TyNfi9IpdR8xvzzE+/AxZ5Oq",
      "include_colab_link": true
    },
    "kernelspec": {
      "name": "python3",
      "display_name": "Python 3"
    },
    "language_info": {
      "name": "python"
    },
    "accelerator": "GPU"
  },
  "cells": [
    {
      "cell_type": "markdown",
      "metadata": {
        "id": "view-in-github",
        "colab_type": "text"
      },
      "source": [
        "<a href=\"https://colab.research.google.com/github/Nirob-0812/Colab_Notebooks/blob/main/Building_Face_Rectangle/Face_Rectangle.ipynb\" target=\"_parent\"><img src=\"https://colab.research.google.com/assets/colab-badge.svg\" alt=\"Open In Colab\"/></a>"
      ]
    },
    {
      "cell_type": "code",
      "execution_count": 27,
      "metadata": {
        "id": "7tLe8xyfLas9"
      },
      "outputs": [],
      "source": [
        "import cv2"
      ]
    },
    {
      "cell_type": "code",
      "source": [
        "face_cascade=cv2.CascadeClassifier(\"/content/drive/MyDrive/Colab Notebooks/Project/Face Rectangle/haarcascade_frontalface_alt.xml\")"
      ],
      "metadata": {
        "id": "tQPvBQ9JLgJM"
      },
      "execution_count": 28,
      "outputs": []
    },
    {
      "cell_type": "code",
      "source": [
        "img=cv2.imread(\"/content/drive/MyDrive/Colab Notebooks/Project/Face Rectangle/test.jpg\")"
      ],
      "metadata": {
        "id": "fY_SYHg6qKG4"
      },
      "execution_count": 29,
      "outputs": []
    },
    {
      "cell_type": "code",
      "source": [
        "faces=face_cascade.detectMultiScale(img,1.1,4)"
      ],
      "metadata": {
        "id": "GUq5_CzKqsZG"
      },
      "execution_count": 30,
      "outputs": []
    },
    {
      "cell_type": "code",
      "source": [
        "for (x,y,w,h) in faces:\n",
        "  cv2.rectangle(img,(x,y),(x+w,y+h),(255,0,0),2)"
      ],
      "metadata": {
        "id": "VoZPZ-jMrMsV"
      },
      "execution_count": 31,
      "outputs": []
    },
    {
      "cell_type": "code",
      "source": [
        "cv2.imwrite(\"Output.jpg\",img)\n"
      ],
      "metadata": {
        "colab": {
          "base_uri": "https://localhost:8080/"
        },
        "id": "sSyA2EyGs8Bt",
        "outputId": "05153529-1edb-4628-e4a5-0fa828acb820"
      },
      "execution_count": 32,
      "outputs": [
        {
          "output_type": "execute_result",
          "data": {
            "text/plain": [
              "True"
            ]
          },
          "metadata": {},
          "execution_count": 32
        }
      ]
    }
  ]
}